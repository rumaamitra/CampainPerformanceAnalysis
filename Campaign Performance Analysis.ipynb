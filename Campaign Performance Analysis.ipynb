{
 "cells": [
  {
   "cell_type": "markdown",
   "id": "ed1f914b",
   "metadata": {},
   "source": [
    "### Effectiveness Analysis of the Recent Campaign launched by a Company"
   ]
  },
  {
   "cell_type": "markdown",
   "id": "f8c82bfb",
   "metadata": {},
   "source": [
    "#### Step 1: Load Data"
   ]
  },
  {
   "cell_type": "code",
   "execution_count": 2,
   "id": "cc0a37ec",
   "metadata": {},
   "outputs": [
    {
     "data": {
      "text/html": [
       "<div>\n",
       "<style scoped>\n",
       "    .dataframe tbody tr th:only-of-type {\n",
       "        vertical-align: middle;\n",
       "    }\n",
       "\n",
       "    .dataframe tbody tr th {\n",
       "        vertical-align: top;\n",
       "    }\n",
       "\n",
       "    .dataframe thead th {\n",
       "        text-align: right;\n",
       "    }\n",
       "</style>\n",
       "<table border=\"1\" class=\"dataframe\">\n",
       "  <thead>\n",
       "    <tr style=\"text-align: right;\">\n",
       "      <th></th>\n",
       "      <th>Customer ID</th>\n",
       "      <th>Interaction Date</th>\n",
       "      <th>Interaction Type</th>\n",
       "      <th>Interaction Channel</th>\n",
       "    </tr>\n",
       "  </thead>\n",
       "  <tbody>\n",
       "    <tr>\n",
       "      <th>0</th>\n",
       "      <td>1</td>\n",
       "      <td>2/28/2024</td>\n",
       "      <td>share</td>\n",
       "      <td>website</td>\n",
       "    </tr>\n",
       "    <tr>\n",
       "      <th>1</th>\n",
       "      <td>2</td>\n",
       "      <td>4/27/2024</td>\n",
       "      <td>view</td>\n",
       "      <td>social media</td>\n",
       "    </tr>\n",
       "    <tr>\n",
       "      <th>2</th>\n",
       "      <td>3</td>\n",
       "      <td>2/26/2024</td>\n",
       "      <td>share</td>\n",
       "      <td>email</td>\n",
       "    </tr>\n",
       "    <tr>\n",
       "      <th>3</th>\n",
       "      <td>4</td>\n",
       "      <td>2/13/2024</td>\n",
       "      <td>click</td>\n",
       "      <td>email</td>\n",
       "    </tr>\n",
       "    <tr>\n",
       "      <th>4</th>\n",
       "      <td>5</td>\n",
       "      <td>4/1/2024</td>\n",
       "      <td>share</td>\n",
       "      <td>social media</td>\n",
       "    </tr>\n",
       "  </tbody>\n",
       "</table>\n",
       "</div>"
      ],
      "text/plain": [
       "   Customer ID Interaction Date Interaction Type Interaction Channel\n",
       "0            1        2/28/2024            share             website\n",
       "1            2        4/27/2024             view        social media\n",
       "2            3        2/26/2024            share               email\n",
       "3            4        2/13/2024            click               email\n",
       "4            5         4/1/2024            share        social media"
      ]
     },
     "execution_count": 2,
     "metadata": {},
     "output_type": "execute_result"
    }
   ],
   "source": [
    "import pandas as pd\n",
    "\n",
    "user_interaction = pd.read_csv('../Campaign Performance Analysis/UserInteractions.csv')\n",
    "user_interaction.head()"
   ]
  },
  {
   "cell_type": "code",
   "execution_count": 4,
   "id": "e5ee7d10",
   "metadata": {},
   "outputs": [
    {
     "data": {
      "text/html": [
       "<div>\n",
       "<style scoped>\n",
       "    .dataframe tbody tr th:only-of-type {\n",
       "        vertical-align: middle;\n",
       "    }\n",
       "\n",
       "    .dataframe tbody tr th {\n",
       "        vertical-align: top;\n",
       "    }\n",
       "\n",
       "    .dataframe thead th {\n",
       "        text-align: right;\n",
       "    }\n",
       "</style>\n",
       "<table border=\"1\" class=\"dataframe\">\n",
       "  <thead>\n",
       "    <tr style=\"text-align: right;\">\n",
       "      <th></th>\n",
       "      <th>Transaction ID</th>\n",
       "      <th>Transaction Date</th>\n",
       "      <th>Customer ID</th>\n",
       "      <th>Product ID</th>\n",
       "      <th>Product Category</th>\n",
       "      <th>Sales Amount</th>\n",
       "      <th>Quantity</th>\n",
       "    </tr>\n",
       "  </thead>\n",
       "  <tbody>\n",
       "    <tr>\n",
       "      <th>0</th>\n",
       "      <td>1</td>\n",
       "      <td>1/19/2024</td>\n",
       "      <td>213</td>\n",
       "      <td>345</td>\n",
       "      <td>Books</td>\n",
       "      <td>295.15</td>\n",
       "      <td>7</td>\n",
       "    </tr>\n",
       "    <tr>\n",
       "      <th>1</th>\n",
       "      <td>2</td>\n",
       "      <td>6/11/2024</td>\n",
       "      <td>59</td>\n",
       "      <td>134</td>\n",
       "      <td>Electronics</td>\n",
       "      <td>457.78</td>\n",
       "      <td>1</td>\n",
       "    </tr>\n",
       "    <tr>\n",
       "      <th>2</th>\n",
       "      <td>3</td>\n",
       "      <td>1/10/2024</td>\n",
       "      <td>178</td>\n",
       "      <td>89</td>\n",
       "      <td>Electronics</td>\n",
       "      <td>423.84</td>\n",
       "      <td>2</td>\n",
       "    </tr>\n",
       "    <tr>\n",
       "      <th>3</th>\n",
       "      <td>4</td>\n",
       "      <td>5/30/2024</td>\n",
       "      <td>359</td>\n",
       "      <td>423</td>\n",
       "      <td>Home &amp; Kitchen</td>\n",
       "      <td>497.52</td>\n",
       "      <td>1</td>\n",
       "    </tr>\n",
       "    <tr>\n",
       "      <th>4</th>\n",
       "      <td>5</td>\n",
       "      <td>3/21/2024</td>\n",
       "      <td>384</td>\n",
       "      <td>139</td>\n",
       "      <td>Clothing</td>\n",
       "      <td>164.21</td>\n",
       "      <td>7</td>\n",
       "    </tr>\n",
       "  </tbody>\n",
       "</table>\n",
       "</div>"
      ],
      "text/plain": [
       "   Transaction ID Transaction Date  Customer ID  Product ID Product Category  \\\n",
       "0               1        1/19/2024          213         345            Books   \n",
       "1               2        6/11/2024           59         134      Electronics   \n",
       "2               3        1/10/2024          178          89      Electronics   \n",
       "3               4        5/30/2024          359         423   Home & Kitchen   \n",
       "4               5        3/21/2024          384         139         Clothing   \n",
       "\n",
       "   Sales Amount  Quantity  \n",
       "0        295.15         7  \n",
       "1        457.78         1  \n",
       "2        423.84         2  \n",
       "3        497.52         1  \n",
       "4        164.21         7  "
      ]
     },
     "execution_count": 4,
     "metadata": {},
     "output_type": "execute_result"
    }
   ],
   "source": [
    "sales_transaction = pd.read_csv('../Campaign Performance Analysis/SalesTransactions.csv')\n",
    "sales_transaction.head()"
   ]
  },
  {
   "cell_type": "code",
   "execution_count": 6,
   "id": "106d9a4b",
   "metadata": {},
   "outputs": [
    {
     "data": {
      "text/html": [
       "<div>\n",
       "<style scoped>\n",
       "    .dataframe tbody tr th:only-of-type {\n",
       "        vertical-align: middle;\n",
       "    }\n",
       "\n",
       "    .dataframe tbody tr th {\n",
       "        vertical-align: top;\n",
       "    }\n",
       "\n",
       "    .dataframe thead th {\n",
       "        text-align: right;\n",
       "    }\n",
       "</style>\n",
       "<table border=\"1\" class=\"dataframe\">\n",
       "  <thead>\n",
       "    <tr style=\"text-align: right;\">\n",
       "      <th></th>\n",
       "      <th>Customer ID</th>\n",
       "      <th>Age</th>\n",
       "      <th>Gender</th>\n",
       "      <th>Location</th>\n",
       "      <th>Income Level</th>\n",
       "    </tr>\n",
       "  </thead>\n",
       "  <tbody>\n",
       "    <tr>\n",
       "      <th>0</th>\n",
       "      <td>1</td>\n",
       "      <td>65</td>\n",
       "      <td>Male</td>\n",
       "      <td>Martinezmouth</td>\n",
       "      <td>61083</td>\n",
       "    </tr>\n",
       "    <tr>\n",
       "      <th>1</th>\n",
       "      <td>2</td>\n",
       "      <td>43</td>\n",
       "      <td>Non-binary</td>\n",
       "      <td>South Anne</td>\n",
       "      <td>90419</td>\n",
       "    </tr>\n",
       "    <tr>\n",
       "      <th>2</th>\n",
       "      <td>3</td>\n",
       "      <td>58</td>\n",
       "      <td>Non-binary</td>\n",
       "      <td>West Darrellport</td>\n",
       "      <td>38260</td>\n",
       "    </tr>\n",
       "    <tr>\n",
       "      <th>3</th>\n",
       "      <td>4</td>\n",
       "      <td>53</td>\n",
       "      <td>Non-binary</td>\n",
       "      <td>Stevenshire</td>\n",
       "      <td>34649</td>\n",
       "    </tr>\n",
       "    <tr>\n",
       "      <th>4</th>\n",
       "      <td>5</td>\n",
       "      <td>69</td>\n",
       "      <td>Female</td>\n",
       "      <td>South Kellychester</td>\n",
       "      <td>70420</td>\n",
       "    </tr>\n",
       "  </tbody>\n",
       "</table>\n",
       "</div>"
      ],
      "text/plain": [
       "   Customer ID  Age      Gender            Location  Income Level\n",
       "0            1   65        Male       Martinezmouth         61083\n",
       "1            2   43  Non-binary          South Anne         90419\n",
       "2            3   58  Non-binary    West Darrellport         38260\n",
       "3            4   53  Non-binary         Stevenshire         34649\n",
       "4            5   69      Female  South Kellychester         70420"
      ]
     },
     "execution_count": 6,
     "metadata": {},
     "output_type": "execute_result"
    }
   ],
   "source": [
    "customer_demographic = pd.read_csv('../Campaign Performance Analysis/CustomerDemographics.csv')\n",
    "customer_demographic.head()"
   ]
  },
  {
   "cell_type": "markdown",
   "id": "60ef4521",
   "metadata": {},
   "source": [
    "#### Step 2: Clean the Data"
   ]
  },
  {
   "cell_type": "markdown",
   "id": "23c863f0",
   "metadata": {},
   "source": [
    "##### i) Check if the numeric & string columns are assigned incorrect datatypes [This can cause problems while processing data for Analysis]"
   ]
  },
  {
   "cell_type": "code",
   "execution_count": 8,
   "id": "a1de591f",
   "metadata": {},
   "outputs": [
    {
     "data": {
      "text/plain": [
       "Customer ID             int64\n",
       "Interaction Date       object\n",
       "Interaction Type       object\n",
       "Interaction Channel    object\n",
       "dtype: object"
      ]
     },
     "execution_count": 8,
     "metadata": {},
     "output_type": "execute_result"
    }
   ],
   "source": [
    "user_interaction.dtypes"
   ]
  },
  {
   "cell_type": "code",
   "execution_count": 10,
   "id": "9f9fdef9",
   "metadata": {},
   "outputs": [
    {
     "data": {
      "text/plain": [
       "Customer ID                     int64\n",
       "Interaction Date       datetime64[ns]\n",
       "Interaction Type               object\n",
       "Interaction Channel            object\n",
       "dtype: object"
      ]
     },
     "execution_count": 10,
     "metadata": {},
     "output_type": "execute_result"
    }
   ],
   "source": [
    "#Interaction Date is set to object type but should rather be datetime\n",
    "user_interaction['Interaction Date']=user_interaction['Interaction Date'].astype('datetime64[ns]')\n",
    "user_interaction.dtypes"
   ]
  },
  {
   "cell_type": "code",
   "execution_count": 11,
   "id": "d7fa8a78",
   "metadata": {},
   "outputs": [
    {
     "data": {
      "text/plain": [
       "Transaction ID        int64\n",
       "Transaction Date     object\n",
       "Customer ID           int64\n",
       "Product ID            int64\n",
       "Product Category     object\n",
       "Sales Amount        float64\n",
       "Quantity              int64\n",
       "dtype: object"
      ]
     },
     "execution_count": 11,
     "metadata": {},
     "output_type": "execute_result"
    }
   ],
   "source": [
    "sales_transaction.dtypes"
   ]
  },
  {
   "cell_type": "code",
   "execution_count": 16,
   "id": "d9b2c214",
   "metadata": {},
   "outputs": [
    {
     "data": {
      "text/plain": [
       "Transaction ID               int64\n",
       "Transaction Date    datetime64[ns]\n",
       "Customer ID                  int64\n",
       "Product ID                   int64\n",
       "Product Category            object\n",
       "Sales Amount               float64\n",
       "Quantity                     int64\n",
       "dtype: object"
      ]
     },
     "execution_count": 16,
     "metadata": {},
     "output_type": "execute_result"
    }
   ],
   "source": [
    "#Again change the datatype for Transaction Date to Datetime\n",
    "sales_transaction['Transaction Date'] = sales_transaction['Transaction Date'].astype('datetime64[ns]')\n",
    "sales_transaction.dtypes"
   ]
  },
  {
   "cell_type": "code",
   "execution_count": 17,
   "id": "3700610b",
   "metadata": {},
   "outputs": [
    {
     "data": {
      "text/plain": [
       "Customer ID      int64\n",
       "Age              int64\n",
       "Gender          object\n",
       "Location        object\n",
       "Income Level     int64\n",
       "dtype: object"
      ]
     },
     "execution_count": 17,
     "metadata": {},
     "output_type": "execute_result"
    }
   ],
   "source": [
    "customer_demographic.dtypes"
   ]
  },
  {
   "cell_type": "markdown",
   "id": "e3502d00",
   "metadata": {},
   "source": [
    "##### ii) Handle Null/Missing Values"
   ]
  },
  {
   "cell_type": "code",
   "execution_count": 22,
   "id": "ff9a38cf",
   "metadata": {},
   "outputs": [
    {
     "name": "stdout",
     "output_type": "stream",
     "text": [
      "(1000, 4)\n"
     ]
    },
    {
     "data": {
      "text/plain": [
       "Customer ID             0\n",
       "Interaction Date        0\n",
       "Interaction Type        0\n",
       "Interaction Channel    11\n",
       "dtype: int64"
      ]
     },
     "execution_count": 22,
     "metadata": {},
     "output_type": "execute_result"
    }
   ],
   "source": [
    "print(user_interaction.shape)\n",
    "user_interaction.isnull().sum()"
   ]
  },
  {
   "cell_type": "code",
   "execution_count": 24,
   "id": "f162e847",
   "metadata": {},
   "outputs": [
    {
     "data": {
      "text/plain": [
       "website         334\n",
       "email           329\n",
       "social media    326\n",
       "Name: Interaction Channel, dtype: int64"
      ]
     },
     "execution_count": 24,
     "metadata": {},
     "output_type": "execute_result"
    }
   ],
   "source": [
    "#11 out 1000 rows have NULL for Interaction Channel which is a catagorical Data field\n",
    "#Solution - Replace the Missing fileds with the most representative values as the number of such fileds\n",
    "#are less compared to the total sample size\n",
    "user_interaction['Interaction Channel'].value_counts()"
   ]
  },
  {
   "cell_type": "code",
   "execution_count": 31,
   "id": "af961bfd",
   "metadata": {},
   "outputs": [
    {
     "data": {
      "text/plain": [
       "Customer ID            0\n",
       "Interaction Date       0\n",
       "Interaction Type       0\n",
       "Interaction Channel    0\n",
       "dtype: int64"
      ]
     },
     "execution_count": 31,
     "metadata": {},
     "output_type": "execute_result"
    }
   ],
   "source": [
    "#Website is ti the most representative value. So, replace NaN's with 'Website'\n",
    "user_interaction['Interaction Channel'].fillna('website',inplace=True)\n",
    "user_interaction.isnull().sum()\n",
    "#No Null Values in this dataset anymore"
   ]
  },
  {
   "cell_type": "code",
   "execution_count": 32,
   "id": "83c62363",
   "metadata": {},
   "outputs": [
    {
     "data": {
      "text/plain": [
       "Transaction ID      0\n",
       "Transaction Date    0\n",
       "Customer ID         0\n",
       "Product ID          0\n",
       "Product Category    0\n",
       "Sales Amount        0\n",
       "Quantity            0\n",
       "dtype: int64"
      ]
     },
     "execution_count": 32,
     "metadata": {},
     "output_type": "execute_result"
    }
   ],
   "source": [
    "sales_transaction.isnull().sum()"
   ]
  },
  {
   "cell_type": "code",
   "execution_count": 33,
   "id": "03529f75",
   "metadata": {},
   "outputs": [
    {
     "data": {
      "text/plain": [
       "Customer ID     0\n",
       "Age             0\n",
       "Gender          0\n",
       "Location        0\n",
       "Income Level    0\n",
       "dtype: int64"
      ]
     },
     "execution_count": 33,
     "metadata": {},
     "output_type": "execute_result"
    }
   ],
   "source": [
    "customer_demographic.isnull().sum()"
   ]
  },
  {
   "cell_type": "markdown",
   "id": "6134a9d7",
   "metadata": {},
   "source": [
    "#### Step 3: Analysis"
   ]
  },
  {
   "cell_type": "markdown",
   "id": "2aba9192",
   "metadata": {},
   "source": [
    "##### Problem 1- Determine User Engagement Rate"
   ]
  },
  {
   "cell_type": "code",
   "execution_count": 60,
   "id": "2da8ac87",
   "metadata": {},
   "outputs": [
    {
     "name": "stdout",
     "output_type": "stream",
     "text": [
      "Total Interactions:  1000\n",
      "Unique Customer Interactions:  1000\n",
      "User Engagement Rate: 66.67%\n"
     ]
    }
   ],
   "source": [
    "import matplotlib.pyplot as plt\n",
    "import seaborn as sns\n",
    "\n",
    "#Find Total Interaction\n",
    "total_interactions = user_interaction.shape\n",
    "print(\"Total Interactions: \",total_interactions[0])\n",
    "unique_customer_interactions = user_interaction['Customer ID'].nunique()\n",
    "print(\"Unique Customer Interactions: \",unique_customer_interactions)\n",
    "target_engagement=1500\n",
    "engagement_rate = (unique_customer_interactions/target_engagement)*100\n",
    "print(f\"User Engagement Rate: {'%.2f'%engagement_rate}%\")"
   ]
  },
  {
   "cell_type": "code",
   "execution_count": 83,
   "id": "dd912b0d",
   "metadata": {},
   "outputs": [
    {
     "data": {
      "image/png": "[encoded data removed]",
      "text/plain": [
       "<Figure size 432x288 with 1 Axes>"
      ]
     },
     "metadata": {
      "needs_background": "light"
     },
     "output_type": "display_data"
    }
   ],
   "source": [
    "barch = plt.bar(['Actual','Target'],[unique_customer_interactions,1500], color='orange',width=1.3)\n",
    "barch[0].set_color('green')\n",
    "plt.title(\"Actual vs Targeted User Engagement\")\n",
    "plt.ylabel(\"No. of Customers\")\n",
    "plt.show()\n",
    "#Target hasn't been achieved in terms of expected engagement"
   ]
  },
  {
   "cell_type": "code",
   "execution_count": 50,
   "id": "58d7092e",
   "metadata": {},
   "outputs": [
    {
     "data": {
      "text/plain": [
       "website         34.5\n",
       "email           32.9\n",
       "social media    32.6\n",
       "Name: Interaction Channel, dtype: float64"
      ]
     },
     "execution_count": 50,
     "metadata": {},
     "output_type": "execute_result"
    }
   ],
   "source": [
    "#Channel-wise interaction %\n",
    "channel_interactions = (user_interaction['Interaction Channel'].value_counts()/total_interactions[0])*100\n",
    "channel_interactions"
   ]
  },
  {
   "cell_type": "code",
   "execution_count": 64,
   "id": "da778eaa",
   "metadata": {},
   "outputs": [
    {
     "data": {
      "image/png": "[encoded data removed]",
      "text/plain": [
       "<Figure size 432x288 with 1 Axes>"
      ]
     },
     "metadata": {},
     "output_type": "display_data"
    }
   ],
   "source": [
    "plt.pie(channel_interactions,labels=channel_interactions.index,autopct='%.1f%%')\n",
    "plt.title(\"Channel-wise distribution\")\n",
    "plt.show()"
   ]
  },
  {
   "cell_type": "code",
   "execution_count": 65,
   "id": "0b3b8256",
   "metadata": {},
   "outputs": [
    {
     "data": {
      "text/plain": [
       "share    35.6\n",
       "click    32.6\n",
       "view     31.8\n",
       "Name: Interaction Type, dtype: float64"
      ]
     },
     "execution_count": 65,
     "metadata": {},
     "output_type": "execute_result"
    }
   ],
   "source": [
    "#Mode-wise Interaction %\n",
    "type_interactions = (user_interaction['Interaction Type'].value_counts()/total_interactions[0])*100\n",
    "type_interactions"
   ]
  },
  {
   "cell_type": "code",
   "execution_count": 67,
   "id": "7dbf0ef5",
   "metadata": {
    "scrolled": true
   },
   "outputs": [
    {
     "data": {
      "image/png": "[encoded data removed]",
      "text/plain": [
       "<Figure size 432x288 with 1 Axes>"
      ]
     },
     "metadata": {},
     "output_type": "display_data"
    }
   ],
   "source": [
    "plt.pie(type_interactions,labels=type_interactions.index,autopct='%.1f%%')\n",
    "plt.title(\"Mode-wise distribution\")\n",
    "plt.show()"
   ]
  },
  {
   "cell_type": "markdown",
   "id": "85608a2f",
   "metadata": {},
   "source": [
    "##### Problem 2- Determine how many Users converted to Customers"
   ]
  },
  {
   "cell_type": "code",
   "execution_count": 89,
   "id": "4de7d5b9",
   "metadata": {},
   "outputs": [
    {
     "data": {
      "text/html": [
       "<div>\n",
       "<style scoped>\n",
       "    .dataframe tbody tr th:only-of-type {\n",
       "        vertical-align: middle;\n",
       "    }\n",
       "\n",
       "    .dataframe tbody tr th {\n",
       "        vertical-align: top;\n",
       "    }\n",
       "\n",
       "    .dataframe thead th {\n",
       "        text-align: right;\n",
       "    }\n",
       "</style>\n",
       "<table border=\"1\" class=\"dataframe\">\n",
       "  <thead>\n",
       "    <tr style=\"text-align: right;\">\n",
       "      <th></th>\n",
       "      <th>Transaction ID</th>\n",
       "      <th>Transaction Date</th>\n",
       "      <th>Customer ID</th>\n",
       "      <th>Product ID</th>\n",
       "      <th>Product Category</th>\n",
       "      <th>Sales Amount</th>\n",
       "      <th>Quantity</th>\n",
       "      <th>Interaction Date</th>\n",
       "      <th>Interaction Type</th>\n",
       "      <th>Interaction Channel</th>\n",
       "    </tr>\n",
       "  </thead>\n",
       "  <tbody>\n",
       "    <tr>\n",
       "      <th>0</th>\n",
       "      <td>1</td>\n",
       "      <td>2024-01-19</td>\n",
       "      <td>213</td>\n",
       "      <td>345</td>\n",
       "      <td>Books</td>\n",
       "      <td>295.15</td>\n",
       "      <td>7</td>\n",
       "      <td>2024-04-22</td>\n",
       "      <td>view</td>\n",
       "      <td>email</td>\n",
       "    </tr>\n",
       "    <tr>\n",
       "      <th>1</th>\n",
       "      <td>656</td>\n",
       "      <td>2024-02-10</td>\n",
       "      <td>213</td>\n",
       "      <td>99</td>\n",
       "      <td>Toys</td>\n",
       "      <td>94.82</td>\n",
       "      <td>7</td>\n",
       "      <td>2024-04-22</td>\n",
       "      <td>view</td>\n",
       "      <td>email</td>\n",
       "    </tr>\n",
       "    <tr>\n",
       "      <th>2</th>\n",
       "      <td>823</td>\n",
       "      <td>2024-06-24</td>\n",
       "      <td>213</td>\n",
       "      <td>362</td>\n",
       "      <td>Toys</td>\n",
       "      <td>13.47</td>\n",
       "      <td>6</td>\n",
       "      <td>2024-04-22</td>\n",
       "      <td>view</td>\n",
       "      <td>email</td>\n",
       "    </tr>\n",
       "    <tr>\n",
       "      <th>3</th>\n",
       "      <td>1177</td>\n",
       "      <td>2024-01-15</td>\n",
       "      <td>213</td>\n",
       "      <td>89</td>\n",
       "      <td>Electronics</td>\n",
       "      <td>475.05</td>\n",
       "      <td>4</td>\n",
       "      <td>2024-04-22</td>\n",
       "      <td>view</td>\n",
       "      <td>email</td>\n",
       "    </tr>\n",
       "    <tr>\n",
       "      <th>4</th>\n",
       "      <td>2</td>\n",
       "      <td>2024-06-11</td>\n",
       "      <td>59</td>\n",
       "      <td>134</td>\n",
       "      <td>Electronics</td>\n",
       "      <td>457.78</td>\n",
       "      <td>1</td>\n",
       "      <td>2024-04-16</td>\n",
       "      <td>view</td>\n",
       "      <td>email</td>\n",
       "    </tr>\n",
       "  </tbody>\n",
       "</table>\n",
       "</div>"
      ],
      "text/plain": [
       "   Transaction ID Transaction Date  Customer ID  Product ID Product Category  \\\n",
       "0               1       2024-01-19          213         345            Books   \n",
       "1             656       2024-02-10          213          99             Toys   \n",
       "2             823       2024-06-24          213         362             Toys   \n",
       "3            1177       2024-01-15          213          89      Electronics   \n",
       "4               2       2024-06-11           59         134      Electronics   \n",
       "\n",
       "   Sales Amount  Quantity Interaction Date Interaction Type  \\\n",
       "0        295.15         7       2024-04-22             view   \n",
       "1         94.82         7       2024-04-22             view   \n",
       "2         13.47         6       2024-04-22             view   \n",
       "3        475.05         4       2024-04-22             view   \n",
       "4        457.78         1       2024-04-16             view   \n",
       "\n",
       "  Interaction Channel  \n",
       "0               email  \n",
       "1               email  \n",
       "2               email  \n",
       "3               email  \n",
       "4               email  "
      ]
     },
     "execution_count": 89,
     "metadata": {},
     "output_type": "execute_result"
    }
   ],
   "source": [
    "#Consider the customers common in Sales and User Interaction tables\n",
    "#Merge tables based on common Customer ID\n",
    "cust_conversion = sales_transaction.merge(user_interaction, on='Customer ID', how='inner')\n",
    "cust_conversion.head()"
   ]
  },
  {
   "cell_type": "code",
   "execution_count": 94,
   "id": "7a6196ee",
   "metadata": {},
   "outputs": [
    {
     "name": "stdout",
     "output_type": "stream",
     "text": [
      "419\n"
     ]
    }
   ],
   "source": [
    "#Filter the customers who purchased after their interaction with the Company's campaign\n",
    "cust_conversion=cust_conversion[cust_conversion['Transaction Date']>=cust_conversion['Interaction Date']]\n",
    "#Find the number of unique customers from the filtered list - they've been converted after engagement\n",
    "converted_cust = cust_conversion['Customer ID'].nunique()\n",
    "print(converted_cust)"
   ]
  },
  {
   "cell_type": "markdown",
   "id": "5e390441",
   "metadata": {},
   "source": [
    "#### Calculate Conversion Rate"
   ]
  },
  {
   "cell_type": "code",
   "execution_count": 103,
   "id": "89790779",
   "metadata": {},
   "outputs": [
    {
     "name": "stdout",
     "output_type": "stream",
     "text": [
      "Engaged Customer Conversion Rate: 41.9 %\n",
      "Conversion rate based on targeted engagement: 27.93 %\n"
     ]
    }
   ],
   "source": [
    "e_conversion_rate = (converted_cust/unique_customer_interactions)*100\n",
    "print(f\"Engaged Customer Conversion Rate: {'%.1f'%e_conversion_rate} %\")\n",
    "#Targeted coversion rate is 35% of 1500 engaged customers\n",
    "t_conversion_rate = (converted_cust/1500)*100\n",
    "print(f\"Conversion rate based on targeted engagement: {round(t_conversion_rate,2)} %\")\n",
    "#We haven't achieved the expected Customer numbers who made a purchase after engaging with the campaign"
   ]
  },
  {
   "cell_type": "markdown",
   "id": "88050bdf",
   "metadata": {},
   "source": [
    "##### Problem 3 - Determine the impact of campaign on Sales numbers"
   ]
  },
  {
   "cell_type": "code",
   "execution_count": 105,
   "id": "d428b294",
   "metadata": {},
   "outputs": [
    {
     "name": "stdout",
     "output_type": "stream",
     "text": [
      "Earliest Sales date: 2024-01-01 00:00:00\n",
      "Latest Sales date: 2024-07-06 00:00:00\n"
     ]
    }
   ],
   "source": [
    "#Campaign Duration: 1 Jan,2024 - 30 Apr,2024\n",
    "print(f\"Earliest Sales date: {min(sales_transaction['Transaction Date'])}\")\n",
    "print(f\"Latest Sales date: {max(sales_transaction['Transaction Date'])}\")"
   ]
  },
  {
   "cell_type": "code",
   "execution_count": 106,
   "id": "0e0f71fe",
   "metadata": {},
   "outputs": [
    {
     "data": {
      "text/html": [
       "<div>\n",
       "<style scoped>\n",
       "    .dataframe tbody tr th:only-of-type {\n",
       "        vertical-align: middle;\n",
       "    }\n",
       "\n",
       "    .dataframe tbody tr th {\n",
       "        vertical-align: top;\n",
       "    }\n",
       "\n",
       "    .dataframe thead th {\n",
       "        text-align: right;\n",
       "    }\n",
       "</style>\n",
       "<table border=\"1\" class=\"dataframe\">\n",
       "  <thead>\n",
       "    <tr style=\"text-align: right;\">\n",
       "      <th></th>\n",
       "      <th>Transaction ID</th>\n",
       "      <th>Transaction Date</th>\n",
       "      <th>Customer ID</th>\n",
       "      <th>Product ID</th>\n",
       "      <th>Product Category</th>\n",
       "      <th>Sales Amount</th>\n",
       "      <th>Quantity</th>\n",
       "    </tr>\n",
       "  </thead>\n",
       "  <tbody>\n",
       "    <tr>\n",
       "      <th>0</th>\n",
       "      <td>1</td>\n",
       "      <td>2024-01-19</td>\n",
       "      <td>213</td>\n",
       "      <td>345</td>\n",
       "      <td>Books</td>\n",
       "      <td>295.15</td>\n",
       "      <td>7</td>\n",
       "    </tr>\n",
       "    <tr>\n",
       "      <th>1</th>\n",
       "      <td>2</td>\n",
       "      <td>2024-06-11</td>\n",
       "      <td>59</td>\n",
       "      <td>134</td>\n",
       "      <td>Electronics</td>\n",
       "      <td>457.78</td>\n",
       "      <td>1</td>\n",
       "    </tr>\n",
       "    <tr>\n",
       "      <th>2</th>\n",
       "      <td>3</td>\n",
       "      <td>2024-01-10</td>\n",
       "      <td>178</td>\n",
       "      <td>89</td>\n",
       "      <td>Electronics</td>\n",
       "      <td>423.84</td>\n",
       "      <td>2</td>\n",
       "    </tr>\n",
       "    <tr>\n",
       "      <th>3</th>\n",
       "      <td>4</td>\n",
       "      <td>2024-05-30</td>\n",
       "      <td>359</td>\n",
       "      <td>423</td>\n",
       "      <td>Home &amp; Kitchen</td>\n",
       "      <td>497.52</td>\n",
       "      <td>1</td>\n",
       "    </tr>\n",
       "    <tr>\n",
       "      <th>4</th>\n",
       "      <td>5</td>\n",
       "      <td>2024-03-21</td>\n",
       "      <td>384</td>\n",
       "      <td>139</td>\n",
       "      <td>Clothing</td>\n",
       "      <td>164.21</td>\n",
       "      <td>7</td>\n",
       "    </tr>\n",
       "  </tbody>\n",
       "</table>\n",
       "</div>"
      ],
      "text/plain": [
       "   Transaction ID Transaction Date  Customer ID  Product ID Product Category  \\\n",
       "0               1       2024-01-19          213         345            Books   \n",
       "1               2       2024-06-11           59         134      Electronics   \n",
       "2               3       2024-01-10          178          89      Electronics   \n",
       "3               4       2024-05-30          359         423   Home & Kitchen   \n",
       "4               5       2024-03-21          384         139         Clothing   \n",
       "\n",
       "   Sales Amount  Quantity  \n",
       "0        295.15         7  \n",
       "1        457.78         1  \n",
       "2        423.84         2  \n",
       "3        497.52         1  \n",
       "4        164.21         7  "
      ]
     },
     "execution_count": 106,
     "metadata": {},
     "output_type": "execute_result"
    }
   ],
   "source": [
    "sales_transaction.head()"
   ]
  },
  {
   "cell_type": "code",
   "execution_count": 110,
   "id": "669d2dda",
   "metadata": {},
   "outputs": [
    {
     "data": {
      "text/html": [
       "<div>\n",
       "<style scoped>\n",
       "    .dataframe tbody tr th:only-of-type {\n",
       "        vertical-align: middle;\n",
       "    }\n",
       "\n",
       "    .dataframe tbody tr th {\n",
       "        vertical-align: top;\n",
       "    }\n",
       "\n",
       "    .dataframe thead th {\n",
       "        text-align: right;\n",
       "    }\n",
       "</style>\n",
       "<table border=\"1\" class=\"dataframe\">\n",
       "  <thead>\n",
       "    <tr style=\"text-align: right;\">\n",
       "      <th></th>\n",
       "      <th>Transaction ID</th>\n",
       "      <th>Transaction Date</th>\n",
       "      <th>Customer ID</th>\n",
       "      <th>Product ID</th>\n",
       "      <th>Product Category</th>\n",
       "      <th>Sales Amount</th>\n",
       "      <th>Quantity</th>\n",
       "      <th>Sales</th>\n",
       "    </tr>\n",
       "  </thead>\n",
       "  <tbody>\n",
       "    <tr>\n",
       "      <th>0</th>\n",
       "      <td>1</td>\n",
       "      <td>2024-01-19</td>\n",
       "      <td>213</td>\n",
       "      <td>345</td>\n",
       "      <td>Books</td>\n",
       "      <td>295.15</td>\n",
       "      <td>7</td>\n",
       "      <td>2066.05</td>\n",
       "    </tr>\n",
       "    <tr>\n",
       "      <th>1</th>\n",
       "      <td>2</td>\n",
       "      <td>2024-06-11</td>\n",
       "      <td>59</td>\n",
       "      <td>134</td>\n",
       "      <td>Electronics</td>\n",
       "      <td>457.78</td>\n",
       "      <td>1</td>\n",
       "      <td>457.78</td>\n",
       "    </tr>\n",
       "    <tr>\n",
       "      <th>2</th>\n",
       "      <td>3</td>\n",
       "      <td>2024-01-10</td>\n",
       "      <td>178</td>\n",
       "      <td>89</td>\n",
       "      <td>Electronics</td>\n",
       "      <td>423.84</td>\n",
       "      <td>2</td>\n",
       "      <td>847.68</td>\n",
       "    </tr>\n",
       "    <tr>\n",
       "      <th>3</th>\n",
       "      <td>4</td>\n",
       "      <td>2024-05-30</td>\n",
       "      <td>359</td>\n",
       "      <td>423</td>\n",
       "      <td>Home &amp; Kitchen</td>\n",
       "      <td>497.52</td>\n",
       "      <td>1</td>\n",
       "      <td>497.52</td>\n",
       "    </tr>\n",
       "    <tr>\n",
       "      <th>4</th>\n",
       "      <td>5</td>\n",
       "      <td>2024-03-21</td>\n",
       "      <td>384</td>\n",
       "      <td>139</td>\n",
       "      <td>Clothing</td>\n",
       "      <td>164.21</td>\n",
       "      <td>7</td>\n",
       "      <td>1149.47</td>\n",
       "    </tr>\n",
       "  </tbody>\n",
       "</table>\n",
       "</div>"
      ],
      "text/plain": [
       "   Transaction ID Transaction Date  Customer ID  Product ID Product Category  \\\n",
       "0               1       2024-01-19          213         345            Books   \n",
       "1               2       2024-06-11           59         134      Electronics   \n",
       "2               3       2024-01-10          178          89      Electronics   \n",
       "3               4       2024-05-30          359         423   Home & Kitchen   \n",
       "4               5       2024-03-21          384         139         Clothing   \n",
       "\n",
       "   Sales Amount  Quantity    Sales  \n",
       "0        295.15         7  2066.05  \n",
       "1        457.78         1   457.78  \n",
       "2        423.84         2   847.68  \n",
       "3        497.52         1   497.52  \n",
       "4        164.21         7  1149.47  "
      ]
     },
     "execution_count": 110,
     "metadata": {},
     "output_type": "execute_result"
    }
   ],
   "source": [
    "#Calculate Total Sales per transaction by multiplying Sales Amount with Quantity\n",
    "#Add new column Sales\n",
    "sales_transaction['Sales'] = sales_transaction['Sales Amount']*sales_transaction['Quantity']\n",
    "sales_transaction.head()"
   ]
  },
  {
   "cell_type": "code",
   "execution_count": 112,
   "id": "3c587846",
   "metadata": {},
   "outputs": [
    {
     "data": {
      "text/html": [
       "<div>\n",
       "<style scoped>\n",
       "    .dataframe tbody tr th:only-of-type {\n",
       "        vertical-align: middle;\n",
       "    }\n",
       "\n",
       "    .dataframe tbody tr th {\n",
       "        vertical-align: top;\n",
       "    }\n",
       "\n",
       "    .dataframe thead th {\n",
       "        text-align: right;\n",
       "    }\n",
       "</style>\n",
       "<table border=\"1\" class=\"dataframe\">\n",
       "  <thead>\n",
       "    <tr style=\"text-align: right;\">\n",
       "      <th></th>\n",
       "      <th>Transaction ID</th>\n",
       "      <th>Transaction Date</th>\n",
       "      <th>Customer ID</th>\n",
       "      <th>Product ID</th>\n",
       "      <th>Product Category</th>\n",
       "      <th>Sales Amount</th>\n",
       "      <th>Quantity</th>\n",
       "      <th>Sales</th>\n",
       "      <th>Month</th>\n",
       "    </tr>\n",
       "  </thead>\n",
       "  <tbody>\n",
       "    <tr>\n",
       "      <th>0</th>\n",
       "      <td>1</td>\n",
       "      <td>2024-01-19</td>\n",
       "      <td>213</td>\n",
       "      <td>345</td>\n",
       "      <td>Books</td>\n",
       "      <td>295.15</td>\n",
       "      <td>7</td>\n",
       "      <td>2066.05</td>\n",
       "      <td>1</td>\n",
       "    </tr>\n",
       "    <tr>\n",
       "      <th>1</th>\n",
       "      <td>2</td>\n",
       "      <td>2024-06-11</td>\n",
       "      <td>59</td>\n",
       "      <td>134</td>\n",
       "      <td>Electronics</td>\n",
       "      <td>457.78</td>\n",
       "      <td>1</td>\n",
       "      <td>457.78</td>\n",
       "      <td>6</td>\n",
       "    </tr>\n",
       "    <tr>\n",
       "      <th>2</th>\n",
       "      <td>3</td>\n",
       "      <td>2024-01-10</td>\n",
       "      <td>178</td>\n",
       "      <td>89</td>\n",
       "      <td>Electronics</td>\n",
       "      <td>423.84</td>\n",
       "      <td>2</td>\n",
       "      <td>847.68</td>\n",
       "      <td>1</td>\n",
       "    </tr>\n",
       "    <tr>\n",
       "      <th>3</th>\n",
       "      <td>4</td>\n",
       "      <td>2024-05-30</td>\n",
       "      <td>359</td>\n",
       "      <td>423</td>\n",
       "      <td>Home &amp; Kitchen</td>\n",
       "      <td>497.52</td>\n",
       "      <td>1</td>\n",
       "      <td>497.52</td>\n",
       "      <td>5</td>\n",
       "    </tr>\n",
       "    <tr>\n",
       "      <th>4</th>\n",
       "      <td>5</td>\n",
       "      <td>2024-03-21</td>\n",
       "      <td>384</td>\n",
       "      <td>139</td>\n",
       "      <td>Clothing</td>\n",
       "      <td>164.21</td>\n",
       "      <td>7</td>\n",
       "      <td>1149.47</td>\n",
       "      <td>3</td>\n",
       "    </tr>\n",
       "  </tbody>\n",
       "</table>\n",
       "</div>"
      ],
      "text/plain": [
       "   Transaction ID Transaction Date  Customer ID  Product ID Product Category  \\\n",
       "0               1       2024-01-19          213         345            Books   \n",
       "1               2       2024-06-11           59         134      Electronics   \n",
       "2               3       2024-01-10          178          89      Electronics   \n",
       "3               4       2024-05-30          359         423   Home & Kitchen   \n",
       "4               5       2024-03-21          384         139         Clothing   \n",
       "\n",
       "   Sales Amount  Quantity    Sales  Month  \n",
       "0        295.15         7  2066.05      1  \n",
       "1        457.78         1   457.78      6  \n",
       "2        423.84         2   847.68      1  \n",
       "3        497.52         1   497.52      5  \n",
       "4        164.21         7  1149.47      3  "
      ]
     },
     "execution_count": 112,
     "metadata": {},
     "output_type": "execute_result"
    }
   ],
   "source": [
    "#Extract month from Transaction Date\n",
    "sales_transaction['Month'] = sales_transaction['Transaction Date'].dt.month\n",
    "sales_transaction.head()"
   ]
  },
  {
   "cell_type": "code",
   "execution_count": 119,
   "id": "9721cb8d",
   "metadata": {},
   "outputs": [
    {
     "name": "stdout",
     "output_type": "stream",
     "text": [
      "Sales during Campaign period: 1308551.48\n",
      "Sales after Campaign period: 637323.82\n"
     ]
    }
   ],
   "source": [
    "#Sales during campaign\n",
    "sales_dur_camp = round(sum(sales_transaction[sales_transaction['Month']<5]['Sales']),2)\n",
    "print(f\"Sales during Campaign period: {sales_dur_camp}\")\n",
    "sales_after_camp = round(sum(sales_transaction[sales_transaction['Month']>=5]['Sales']),2)\n",
    "print(f\"Sales after Campaign period: {sales_after_camp}\")"
   ]
  },
  {
   "cell_type": "code",
   "execution_count": 122,
   "id": "9d0a3c69",
   "metadata": {},
   "outputs": [
    {
     "name": "stdout",
     "output_type": "stream",
     "text": [
      "Sales growth during Campaign: 105.32%\n"
     ]
    }
   ],
   "source": [
    "#Calculate the Sales Growth during campaign\n",
    "sales_growth = ((sales_dur_camp - sales_after_camp)/sales_after_camp)*100\n",
    "print(f\"Sales growth during Campaign: {round(sales_growth,2)}%\")\n",
    "#Sales increased during the Campaign period"
   ]
  },
  {
   "cell_type": "markdown",
   "id": "e1f7fd1a",
   "metadata": {},
   "source": [
    "##### Problem 4: Calculate ROI on the Campaign & compare with the previous one"
   ]
  },
  {
   "cell_type": "code",
   "execution_count": 125,
   "id": "ab666763",
   "metadata": {},
   "outputs": [
    {
     "data": {
      "text/html": [
       "<div>\n",
       "<style scoped>\n",
       "    .dataframe tbody tr th:only-of-type {\n",
       "        vertical-align: middle;\n",
       "    }\n",
       "\n",
       "    .dataframe tbody tr th {\n",
       "        vertical-align: top;\n",
       "    }\n",
       "\n",
       "    .dataframe thead th {\n",
       "        text-align: right;\n",
       "    }\n",
       "</style>\n",
       "<table border=\"1\" class=\"dataframe\">\n",
       "  <thead>\n",
       "    <tr style=\"text-align: right;\">\n",
       "      <th></th>\n",
       "      <th>Transaction ID</th>\n",
       "      <th>Transaction Date</th>\n",
       "      <th>Customer ID</th>\n",
       "      <th>Product ID</th>\n",
       "      <th>Product Category</th>\n",
       "      <th>Sales Amount</th>\n",
       "      <th>Quantity</th>\n",
       "      <th>Interaction Date</th>\n",
       "      <th>Interaction Type</th>\n",
       "      <th>Interaction Channel</th>\n",
       "    </tr>\n",
       "  </thead>\n",
       "  <tbody>\n",
       "    <tr>\n",
       "      <th>2</th>\n",
       "      <td>823</td>\n",
       "      <td>2024-06-24</td>\n",
       "      <td>213</td>\n",
       "      <td>362</td>\n",
       "      <td>Toys</td>\n",
       "      <td>13.47</td>\n",
       "      <td>6</td>\n",
       "      <td>2024-04-22</td>\n",
       "      <td>view</td>\n",
       "      <td>email</td>\n",
       "    </tr>\n",
       "    <tr>\n",
       "      <th>4</th>\n",
       "      <td>2</td>\n",
       "      <td>2024-06-11</td>\n",
       "      <td>59</td>\n",
       "      <td>134</td>\n",
       "      <td>Electronics</td>\n",
       "      <td>457.78</td>\n",
       "      <td>1</td>\n",
       "      <td>2024-04-16</td>\n",
       "      <td>view</td>\n",
       "      <td>email</td>\n",
       "    </tr>\n",
       "    <tr>\n",
       "      <th>5</th>\n",
       "      <td>486</td>\n",
       "      <td>2024-06-23</td>\n",
       "      <td>59</td>\n",
       "      <td>499</td>\n",
       "      <td>Electronics</td>\n",
       "      <td>256.80</td>\n",
       "      <td>3</td>\n",
       "      <td>2024-04-16</td>\n",
       "      <td>view</td>\n",
       "      <td>email</td>\n",
       "    </tr>\n",
       "    <tr>\n",
       "      <th>6</th>\n",
       "      <td>3</td>\n",
       "      <td>2024-01-10</td>\n",
       "      <td>178</td>\n",
       "      <td>89</td>\n",
       "      <td>Electronics</td>\n",
       "      <td>423.84</td>\n",
       "      <td>2</td>\n",
       "      <td>2024-01-02</td>\n",
       "      <td>click</td>\n",
       "      <td>website</td>\n",
       "    </tr>\n",
       "    <tr>\n",
       "      <th>9</th>\n",
       "      <td>5</td>\n",
       "      <td>2024-03-21</td>\n",
       "      <td>384</td>\n",
       "      <td>139</td>\n",
       "      <td>Clothing</td>\n",
       "      <td>164.21</td>\n",
       "      <td>7</td>\n",
       "      <td>2024-02-15</td>\n",
       "      <td>share</td>\n",
       "      <td>email</td>\n",
       "    </tr>\n",
       "  </tbody>\n",
       "</table>\n",
       "</div>"
      ],
      "text/plain": [
       "   Transaction ID Transaction Date  Customer ID  Product ID Product Category  \\\n",
       "2             823       2024-06-24          213         362             Toys   \n",
       "4               2       2024-06-11           59         134      Electronics   \n",
       "5             486       2024-06-23           59         499      Electronics   \n",
       "6               3       2024-01-10          178          89      Electronics   \n",
       "9               5       2024-03-21          384         139         Clothing   \n",
       "\n",
       "   Sales Amount  Quantity Interaction Date Interaction Type  \\\n",
       "2         13.47         6       2024-04-22             view   \n",
       "4        457.78         1       2024-04-16             view   \n",
       "5        256.80         3       2024-04-16             view   \n",
       "6        423.84         2       2024-01-02            click   \n",
       "9        164.21         7       2024-02-15            share   \n",
       "\n",
       "  Interaction Channel  \n",
       "2               email  \n",
       "4               email  \n",
       "5               email  \n",
       "6             website  \n",
       "9               email  "
      ]
     },
     "execution_count": 125,
     "metadata": {},
     "output_type": "execute_result"
    }
   ],
   "source": [
    "#Calculate ROI on the revenue generated by the campaign\n",
    "#Re-utilize the Sales and Interaction merged table here\n",
    "#The idea is to find ales generated from users during the campaign after they interacted with the Campaign material\n",
    "cust_conversion.head()"
   ]
  },
  {
   "cell_type": "code",
   "execution_count": 127,
   "id": "7437a883",
   "metadata": {},
   "outputs": [
    {
     "data": {
      "text/html": [
       "<div>\n",
       "<style scoped>\n",
       "    .dataframe tbody tr th:only-of-type {\n",
       "        vertical-align: middle;\n",
       "    }\n",
       "\n",
       "    .dataframe tbody tr th {\n",
       "        vertical-align: top;\n",
       "    }\n",
       "\n",
       "    .dataframe thead th {\n",
       "        text-align: right;\n",
       "    }\n",
       "</style>\n",
       "<table border=\"1\" class=\"dataframe\">\n",
       "  <thead>\n",
       "    <tr style=\"text-align: right;\">\n",
       "      <th></th>\n",
       "      <th>Transaction ID</th>\n",
       "      <th>Transaction Date</th>\n",
       "      <th>Customer ID</th>\n",
       "      <th>Product ID</th>\n",
       "      <th>Product Category</th>\n",
       "      <th>Sales Amount</th>\n",
       "      <th>Quantity</th>\n",
       "      <th>Interaction Date</th>\n",
       "      <th>Interaction Type</th>\n",
       "      <th>Interaction Channel</th>\n",
       "      <th>Sales</th>\n",
       "    </tr>\n",
       "  </thead>\n",
       "  <tbody>\n",
       "    <tr>\n",
       "      <th>2</th>\n",
       "      <td>823</td>\n",
       "      <td>2024-06-24</td>\n",
       "      <td>213</td>\n",
       "      <td>362</td>\n",
       "      <td>Toys</td>\n",
       "      <td>13.47</td>\n",
       "      <td>6</td>\n",
       "      <td>2024-04-22</td>\n",
       "      <td>view</td>\n",
       "      <td>email</td>\n",
       "      <td>80.82</td>\n",
       "    </tr>\n",
       "    <tr>\n",
       "      <th>4</th>\n",
       "      <td>2</td>\n",
       "      <td>2024-06-11</td>\n",
       "      <td>59</td>\n",
       "      <td>134</td>\n",
       "      <td>Electronics</td>\n",
       "      <td>457.78</td>\n",
       "      <td>1</td>\n",
       "      <td>2024-04-16</td>\n",
       "      <td>view</td>\n",
       "      <td>email</td>\n",
       "      <td>457.78</td>\n",
       "    </tr>\n",
       "    <tr>\n",
       "      <th>5</th>\n",
       "      <td>486</td>\n",
       "      <td>2024-06-23</td>\n",
       "      <td>59</td>\n",
       "      <td>499</td>\n",
       "      <td>Electronics</td>\n",
       "      <td>256.80</td>\n",
       "      <td>3</td>\n",
       "      <td>2024-04-16</td>\n",
       "      <td>view</td>\n",
       "      <td>email</td>\n",
       "      <td>770.40</td>\n",
       "    </tr>\n",
       "    <tr>\n",
       "      <th>6</th>\n",
       "      <td>3</td>\n",
       "      <td>2024-01-10</td>\n",
       "      <td>178</td>\n",
       "      <td>89</td>\n",
       "      <td>Electronics</td>\n",
       "      <td>423.84</td>\n",
       "      <td>2</td>\n",
       "      <td>2024-01-02</td>\n",
       "      <td>click</td>\n",
       "      <td>website</td>\n",
       "      <td>847.68</td>\n",
       "    </tr>\n",
       "    <tr>\n",
       "      <th>9</th>\n",
       "      <td>5</td>\n",
       "      <td>2024-03-21</td>\n",
       "      <td>384</td>\n",
       "      <td>139</td>\n",
       "      <td>Clothing</td>\n",
       "      <td>164.21</td>\n",
       "      <td>7</td>\n",
       "      <td>2024-02-15</td>\n",
       "      <td>share</td>\n",
       "      <td>email</td>\n",
       "      <td>1149.47</td>\n",
       "    </tr>\n",
       "  </tbody>\n",
       "</table>\n",
       "</div>"
      ],
      "text/plain": [
       "   Transaction ID Transaction Date  Customer ID  Product ID Product Category  \\\n",
       "2             823       2024-06-24          213         362             Toys   \n",
       "4               2       2024-06-11           59         134      Electronics   \n",
       "5             486       2024-06-23           59         499      Electronics   \n",
       "6               3       2024-01-10          178          89      Electronics   \n",
       "9               5       2024-03-21          384         139         Clothing   \n",
       "\n",
       "   Sales Amount  Quantity Interaction Date Interaction Type  \\\n",
       "2         13.47         6       2024-04-22             view   \n",
       "4        457.78         1       2024-04-16             view   \n",
       "5        256.80         3       2024-04-16             view   \n",
       "6        423.84         2       2024-01-02            click   \n",
       "9        164.21         7       2024-02-15            share   \n",
       "\n",
       "  Interaction Channel    Sales  \n",
       "2               email    80.82  \n",
       "4               email   457.78  \n",
       "5               email   770.40  \n",
       "6             website   847.68  \n",
       "9               email  1149.47  "
      ]
     },
     "execution_count": 127,
     "metadata": {},
     "output_type": "execute_result"
    }
   ],
   "source": [
    "#Calculate Sales for each transaction\n",
    "cust_conversion[\"Sales\"] = cust_conversion[\"Sales Amount\"]*cust_conversion[\"Quantity\"]\n",
    "cust_conversion.head()"
   ]
  },
  {
   "cell_type": "code",
   "execution_count": 144,
   "id": "91e711d3",
   "metadata": {},
   "outputs": [
    {
     "name": "stdout",
     "output_type": "stream",
     "text": [
      "Revenue generated through campaign: $467310.38\n",
      "Revenue generated through last campaign: $268000\n"
     ]
    }
   ],
   "source": [
    "revenue_thru_camp = sum(cust_conversion[(cust_conversion['Transaction Date']>cust_conversion['Interaction Date']) & (cust_conversion['Transaction Date']<='2024-04-30')]['Sales'])\n",
    "print(f\"Revenue generated through campaign: ${round(revenue_thru_camp,2)}\")\n",
    "print(\"Revenue generated through last campaign: $268000\")"
   ]
  },
  {
   "cell_type": "code",
   "execution_count": 149,
   "id": "9e630ae0",
   "metadata": {},
   "outputs": [
    {
     "name": "stdout",
     "output_type": "stream",
     "text": [
      "ROI on current Campaign: 834.62 %\n",
      "ROI on previous Campaign: 370.18 %\n"
     ]
    }
   ],
   "source": [
    "#ROI = ((Revenue - Budget)/Budget)*100\n",
    "curr_camp_roi = ((revenue_thru_camp - 50000)/50000)*100\n",
    "print(f\"ROI on current Campaign: {round(curr_camp_roi,2)} %\")\n",
    "prev_camp_roi = ((268000-57000)/57000)*100\n",
    "print(f\"ROI on previous Campaign: {round(prev_camp_roi,2)} %\")\n",
    "#This Campaign has given a better return on Investments than the previous one"
   ]
  }
 ],
 "metadata": {
  "kernelspec": {
   "display_name": "Python 3",
   "language": "python",
   "name": "python3"
  },
  "language_info": {
   "codemirror_mode": {
    "name": "ipython",
    "version": 3
   },
   "file_extension": ".py",
   "mimetype": "text/x-python",
   "name": "python",
   "nbconvert_exporter": "python",
   "pygments_lexer": "ipython3",
   "version": "3.8.8"
  }
 },
 "nbformat": 4,
 "nbformat_minor": 5
}
